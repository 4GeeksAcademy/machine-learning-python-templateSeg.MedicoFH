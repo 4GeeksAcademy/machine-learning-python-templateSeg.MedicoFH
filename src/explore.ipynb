{
    "cells": [
        {
            "cell_type": "markdown",
            "metadata": {},
            "source": [
                "# Explore here"
            ]
        },
        {
            "cell_type": "code",
            "execution_count": 38,
            "metadata": {},
            "outputs": [
                {
                    "name": "stdout",
                    "output_type": "stream",
                    "text": [
                        "Defaulting to user installation because normal site-packages is not writeable\n",
                        "Requirement already satisfied: missingno in /home/vscode/.local/lib/python3.11/site-packages (0.5.2)\n",
                        "Requirement already satisfied: lazypredict in /home/vscode/.local/lib/python3.11/site-packages (0.2.12)\n",
                        "Requirement already satisfied: scikit-optimize in /home/vscode/.local/lib/python3.11/site-packages (0.9.0)\n",
                        "Requirement already satisfied: numpy in /home/vscode/.local/lib/python3.11/site-packages (from missingno) (1.26.1)\n",
                        "Requirement already satisfied: matplotlib in /home/vscode/.local/lib/python3.11/site-packages (from missingno) (3.8.0)\n",
                        "Requirement already satisfied: scipy in /home/vscode/.local/lib/python3.11/site-packages (from missingno) (1.11.3)\n",
                        "Requirement already satisfied: seaborn in /home/vscode/.local/lib/python3.11/site-packages (from missingno) (0.13.0)\n",
                        "Requirement already satisfied: click in /home/vscode/.local/lib/python3.11/site-packages (from lazypredict) (8.1.7)\n",
                        "Requirement already satisfied: scikit-learn in /home/vscode/.local/lib/python3.11/site-packages (from lazypredict) (1.3.2)\n",
                        "Requirement already satisfied: pandas in /home/vscode/.local/lib/python3.11/site-packages (from lazypredict) (2.1.2)\n",
                        "Requirement already satisfied: tqdm in /home/vscode/.local/lib/python3.11/site-packages (from lazypredict) (4.66.1)\n",
                        "Requirement already satisfied: joblib in /home/vscode/.local/lib/python3.11/site-packages (from lazypredict) (1.3.2)\n",
                        "Requirement already satisfied: lightgbm in /home/vscode/.local/lib/python3.11/site-packages (from lazypredict) (4.1.0)\n",
                        "Requirement already satisfied: xgboost in /home/vscode/.local/lib/python3.11/site-packages (from lazypredict) (2.0.1)\n",
                        "Requirement already satisfied: pyaml>=16.9 in /home/vscode/.local/lib/python3.11/site-packages (from scikit-optimize) (23.9.7)\n",
                        "Requirement already satisfied: PyYAML in /home/vscode/.local/lib/python3.11/site-packages (from pyaml>=16.9->scikit-optimize) (6.0.1)\n",
                        "Requirement already satisfied: threadpoolctl>=2.0.0 in /home/vscode/.local/lib/python3.11/site-packages (from scikit-learn->lazypredict) (3.2.0)\n",
                        "Requirement already satisfied: contourpy>=1.0.1 in /home/vscode/.local/lib/python3.11/site-packages (from matplotlib->missingno) (1.1.1)\n",
                        "Requirement already satisfied: cycler>=0.10 in /home/vscode/.local/lib/python3.11/site-packages (from matplotlib->missingno) (0.12.1)\n",
                        "Requirement already satisfied: fonttools>=4.22.0 in /home/vscode/.local/lib/python3.11/site-packages (from matplotlib->missingno) (4.43.1)\n",
                        "Requirement already satisfied: kiwisolver>=1.0.1 in /home/vscode/.local/lib/python3.11/site-packages (from matplotlib->missingno) (1.4.5)\n",
                        "Requirement already satisfied: packaging>=20.0 in /home/vscode/.local/lib/python3.11/site-packages (from matplotlib->missingno) (23.2)\n",
                        "Requirement already satisfied: pillow>=6.2.0 in /home/vscode/.local/lib/python3.11/site-packages (from matplotlib->missingno) (10.1.0)\n",
                        "Requirement already satisfied: pyparsing>=2.3.1 in /home/vscode/.local/lib/python3.11/site-packages (from matplotlib->missingno) (3.1.1)\n",
                        "Requirement already satisfied: python-dateutil>=2.7 in /home/vscode/.local/lib/python3.11/site-packages (from matplotlib->missingno) (2.8.2)\n",
                        "Requirement already satisfied: pytz>=2020.1 in /home/vscode/.local/lib/python3.11/site-packages (from pandas->lazypredict) (2023.3.post1)\n",
                        "Requirement already satisfied: tzdata>=2022.1 in /home/vscode/.local/lib/python3.11/site-packages (from pandas->lazypredict) (2023.3)\n",
                        "Requirement already satisfied: six>=1.5 in /home/vscode/.local/lib/python3.11/site-packages (from python-dateutil>=2.7->matplotlib->missingno) (1.16.0)\n",
                        "\n",
                        "\u001b[1m[\u001b[0m\u001b[34;49mnotice\u001b[0m\u001b[1;39;49m]\u001b[0m\u001b[39;49m A new release of pip is available: \u001b[0m\u001b[31;49m23.1.2\u001b[0m\u001b[39;49m -> \u001b[0m\u001b[32;49m23.3.1\u001b[0m\n",
                        "\u001b[1m[\u001b[0m\u001b[34;49mnotice\u001b[0m\u001b[1;39;49m]\u001b[0m\u001b[39;49m To update, run: \u001b[0m\u001b[32;49mpip install --upgrade pip\u001b[0m\n"
                    ]
                }
            ],
            "source": [
                "!pip install missingno lazypredict scikit-optimize"
            ]
        },
        {
            "cell_type": "code",
            "execution_count": 39,
            "metadata": {},
            "outputs": [],
            "source": [
                "import pandas as pd\n",
                "import numpy as np\n",
                "import matplotlib.pyplot as plt\n",
                "from sklearn.preprocessing import MinMaxScaler\n",
                "import seaborn as sns\n",
                "from lazypredict.Supervised import LazyRegressor\n",
                "from sklearn.model_selection import train_test_split\n",
                "from lightgbm import LGBMRegressor\n",
                "from sklearn.metrics import mean_squared_error\n",
                "\n",
                "from sklearn.preprocessing import MinMaxScaler\n",
                "from sklearn.model_selection import cross_val_score\n",
                "import lightgbm as lgb\n",
                "from sklearn.model_selection import RandomizedSearchCV\n",
                "from sklearn.metrics import mean_absolute_error, mean_absolute_percentage_error, r2_score\n",
                "from sklearn.preprocessing import FunctionTransformer\n"
            ]
        },
        {
            "cell_type": "code",
            "execution_count": 40,
            "metadata": {},
            "outputs": [
                {
                    "data": {
                        "text/html": [
                            "<div>\n",
                            "<style scoped>\n",
                            "    .dataframe tbody tr th:only-of-type {\n",
                            "        vertical-align: middle;\n",
                            "    }\n",
                            "\n",
                            "    .dataframe tbody tr th {\n",
                            "        vertical-align: top;\n",
                            "    }\n",
                            "\n",
                            "    .dataframe thead th {\n",
                            "        text-align: right;\n",
                            "    }\n",
                            "</style>\n",
                            "<table border=\"1\" class=\"dataframe\">\n",
                            "  <thead>\n",
                            "    <tr style=\"text-align: right;\">\n",
                            "      <th></th>\n",
                            "      <th>age</th>\n",
                            "      <th>sex</th>\n",
                            "      <th>bmi</th>\n",
                            "      <th>children</th>\n",
                            "      <th>smoker</th>\n",
                            "      <th>region</th>\n",
                            "      <th>charges</th>\n",
                            "    </tr>\n",
                            "  </thead>\n",
                            "  <tbody>\n",
                            "    <tr>\n",
                            "      <th>0</th>\n",
                            "      <td>19</td>\n",
                            "      <td>female</td>\n",
                            "      <td>27.90</td>\n",
                            "      <td>0</td>\n",
                            "      <td>yes</td>\n",
                            "      <td>southwest</td>\n",
                            "      <td>16884.92</td>\n",
                            "    </tr>\n",
                            "    <tr>\n",
                            "      <th>1</th>\n",
                            "      <td>18</td>\n",
                            "      <td>male</td>\n",
                            "      <td>33.77</td>\n",
                            "      <td>1</td>\n",
                            "      <td>no</td>\n",
                            "      <td>southeast</td>\n",
                            "      <td>1725.55</td>\n",
                            "    </tr>\n",
                            "    <tr>\n",
                            "      <th>2</th>\n",
                            "      <td>28</td>\n",
                            "      <td>male</td>\n",
                            "      <td>33.00</td>\n",
                            "      <td>3</td>\n",
                            "      <td>no</td>\n",
                            "      <td>southeast</td>\n",
                            "      <td>4449.46</td>\n",
                            "    </tr>\n",
                            "    <tr>\n",
                            "      <th>3</th>\n",
                            "      <td>33</td>\n",
                            "      <td>male</td>\n",
                            "      <td>22.70</td>\n",
                            "      <td>0</td>\n",
                            "      <td>no</td>\n",
                            "      <td>northwest</td>\n",
                            "      <td>21984.47</td>\n",
                            "    </tr>\n",
                            "    <tr>\n",
                            "      <th>4</th>\n",
                            "      <td>32</td>\n",
                            "      <td>male</td>\n",
                            "      <td>28.88</td>\n",
                            "      <td>0</td>\n",
                            "      <td>no</td>\n",
                            "      <td>northwest</td>\n",
                            "      <td>3866.86</td>\n",
                            "    </tr>\n",
                            "    <tr>\n",
                            "      <th>...</th>\n",
                            "      <td>...</td>\n",
                            "      <td>...</td>\n",
                            "      <td>...</td>\n",
                            "      <td>...</td>\n",
                            "      <td>...</td>\n",
                            "      <td>...</td>\n",
                            "      <td>...</td>\n",
                            "    </tr>\n",
                            "    <tr>\n",
                            "      <th>1333</th>\n",
                            "      <td>50</td>\n",
                            "      <td>male</td>\n",
                            "      <td>30.97</td>\n",
                            "      <td>3</td>\n",
                            "      <td>no</td>\n",
                            "      <td>northwest</td>\n",
                            "      <td>10600.55</td>\n",
                            "    </tr>\n",
                            "    <tr>\n",
                            "      <th>1334</th>\n",
                            "      <td>18</td>\n",
                            "      <td>female</td>\n",
                            "      <td>31.92</td>\n",
                            "      <td>0</td>\n",
                            "      <td>no</td>\n",
                            "      <td>northeast</td>\n",
                            "      <td>2205.98</td>\n",
                            "    </tr>\n",
                            "    <tr>\n",
                            "      <th>1335</th>\n",
                            "      <td>18</td>\n",
                            "      <td>female</td>\n",
                            "      <td>36.85</td>\n",
                            "      <td>0</td>\n",
                            "      <td>no</td>\n",
                            "      <td>southeast</td>\n",
                            "      <td>1629.83</td>\n",
                            "    </tr>\n",
                            "    <tr>\n",
                            "      <th>1336</th>\n",
                            "      <td>21</td>\n",
                            "      <td>female</td>\n",
                            "      <td>25.80</td>\n",
                            "      <td>0</td>\n",
                            "      <td>no</td>\n",
                            "      <td>southwest</td>\n",
                            "      <td>2007.94</td>\n",
                            "    </tr>\n",
                            "    <tr>\n",
                            "      <th>1337</th>\n",
                            "      <td>61</td>\n",
                            "      <td>female</td>\n",
                            "      <td>29.07</td>\n",
                            "      <td>0</td>\n",
                            "      <td>yes</td>\n",
                            "      <td>northwest</td>\n",
                            "      <td>29141.36</td>\n",
                            "    </tr>\n",
                            "  </tbody>\n",
                            "</table>\n",
                            "<p>1338 rows × 7 columns</p>\n",
                            "</div>"
                        ],
                        "text/plain": [
                            "      age     sex   bmi  children smoker     region  charges\n",
                            "0      19  female 27.90         0    yes  southwest 16884.92\n",
                            "1      18    male 33.77         1     no  southeast  1725.55\n",
                            "2      28    male 33.00         3     no  southeast  4449.46\n",
                            "3      33    male 22.70         0     no  northwest 21984.47\n",
                            "4      32    male 28.88         0     no  northwest  3866.86\n",
                            "...   ...     ...   ...       ...    ...        ...      ...\n",
                            "1333   50    male 30.97         3     no  northwest 10600.55\n",
                            "1334   18  female 31.92         0     no  northeast  2205.98\n",
                            "1335   18  female 36.85         0     no  southeast  1629.83\n",
                            "1336   21  female 25.80         0     no  southwest  2007.94\n",
                            "1337   61  female 29.07         0    yes  northwest 29141.36\n",
                            "\n",
                            "[1338 rows x 7 columns]"
                        ]
                    },
                    "execution_count": 40,
                    "metadata": {},
                    "output_type": "execute_result"
                }
            ],
            "source": [
                "\n",
                "df = pd.read_csv(\"https://raw.githubusercontent.com/4GeeksAcademy/linear-regression-project-tutorial/main/medical_insurance_cost.csv\")\n",
                "df"
            ]
        },
        {
            "cell_type": "markdown",
            "metadata": {},
            "source": [
                "Paso 2: Exploración y limpieza de datos\n",
                "\n",
                "Descriptivo"
            ]
        },
        {
            "cell_type": "code",
            "execution_count": 41,
            "metadata": {},
            "outputs": [
                {
                    "data": {
                        "text/plain": [
                            "(1338, 7)"
                        ]
                    },
                    "execution_count": 41,
                    "metadata": {},
                    "output_type": "execute_result"
                }
            ],
            "source": [
                "df.shape"
            ]
        },
        {
            "cell_type": "code",
            "execution_count": 42,
            "metadata": {},
            "outputs": [
                {
                    "name": "stdout",
                    "output_type": "stream",
                    "text": [
                        "<class 'pandas.core.frame.DataFrame'>\n",
                        "RangeIndex: 1338 entries, 0 to 1337\n",
                        "Data columns (total 7 columns):\n",
                        " #   Column    Non-Null Count  Dtype  \n",
                        "---  ------    --------------  -----  \n",
                        " 0   age       1338 non-null   int64  \n",
                        " 1   sex       1338 non-null   object \n",
                        " 2   bmi       1338 non-null   float64\n",
                        " 3   children  1338 non-null   int64  \n",
                        " 4   smoker    1338 non-null   object \n",
                        " 5   region    1338 non-null   object \n",
                        " 6   charges   1338 non-null   float64\n",
                        "dtypes: float64(2), int64(2), object(3)\n",
                        "memory usage: 73.3+ KB\n"
                    ]
                }
            ],
            "source": [
                "df.info()"
            ]
        },
        {
            "cell_type": "markdown",
            "metadata": {},
            "source": [
                "Contamos con 4 variables númericas y 4 variables Categóricas"
            ]
        },
        {
            "cell_type": "code",
            "execution_count": 43,
            "metadata": {},
            "outputs": [
                {
                    "data": {
                        "text/plain": [
                            "age           47\n",
                            "sex            2\n",
                            "bmi          548\n",
                            "children       6\n",
                            "smoker         2\n",
                            "region         4\n",
                            "charges     1337\n",
                            "dtype: int64"
                        ]
                    },
                    "execution_count": 43,
                    "metadata": {},
                    "output_type": "execute_result"
                }
            ],
            "source": [
                "cont_unique = df.nunique()\n",
                "cont_unique"
            ]
        },
        {
            "cell_type": "code",
            "execution_count": 44,
            "metadata": {},
            "outputs": [
                {
                    "data": {
                        "text/html": [
                            "<div>\n",
                            "<style scoped>\n",
                            "    .dataframe tbody tr th:only-of-type {\n",
                            "        vertical-align: middle;\n",
                            "    }\n",
                            "\n",
                            "    .dataframe tbody tr th {\n",
                            "        vertical-align: top;\n",
                            "    }\n",
                            "\n",
                            "    .dataframe thead th {\n",
                            "        text-align: right;\n",
                            "    }\n",
                            "</style>\n",
                            "<table border=\"1\" class=\"dataframe\">\n",
                            "  <thead>\n",
                            "    <tr style=\"text-align: right;\">\n",
                            "      <th></th>\n",
                            "      <th>age</th>\n",
                            "      <th>sex</th>\n",
                            "      <th>bmi</th>\n",
                            "      <th>children</th>\n",
                            "      <th>smoker</th>\n",
                            "      <th>region</th>\n",
                            "      <th>charges</th>\n",
                            "      <th>Sex_n</th>\n",
                            "      <th>smoker_n</th>\n",
                            "      <th>region_n</th>\n",
                            "    </tr>\n",
                            "  </thead>\n",
                            "  <tbody>\n",
                            "    <tr>\n",
                            "      <th>0</th>\n",
                            "      <td>19</td>\n",
                            "      <td>female</td>\n",
                            "      <td>27.90</td>\n",
                            "      <td>0</td>\n",
                            "      <td>yes</td>\n",
                            "      <td>southwest</td>\n",
                            "      <td>16884.92</td>\n",
                            "      <td>0</td>\n",
                            "      <td>0</td>\n",
                            "      <td>0</td>\n",
                            "    </tr>\n",
                            "    <tr>\n",
                            "      <th>1</th>\n",
                            "      <td>18</td>\n",
                            "      <td>male</td>\n",
                            "      <td>33.77</td>\n",
                            "      <td>1</td>\n",
                            "      <td>no</td>\n",
                            "      <td>southeast</td>\n",
                            "      <td>1725.55</td>\n",
                            "      <td>1</td>\n",
                            "      <td>1</td>\n",
                            "      <td>1</td>\n",
                            "    </tr>\n",
                            "  </tbody>\n",
                            "</table>\n",
                            "</div>"
                        ],
                        "text/plain": [
                            "   age     sex   bmi  children smoker     region  charges  Sex_n  smoker_n  \\\n",
                            "0   19  female 27.90         0    yes  southwest 16884.92      0         0   \n",
                            "1   18    male 33.77         1     no  southeast  1725.55      1         1   \n",
                            "\n",
                            "   region_n  \n",
                            "0         0  \n",
                            "1         1  "
                        ]
                    },
                    "execution_count": 44,
                    "metadata": {},
                    "output_type": "execute_result"
                }
            ],
            "source": [
                "df['Sex_n'] = pd.factorize(df['sex'])[0]\n",
                "df['smoker_n'] = pd.factorize(df['smoker'])[0]\n",
                "df['region_n'] = pd.factorize(df['region'])[0]\n",
                "df.head(2)"
            ]
        },
        {
            "cell_type": "code",
            "execution_count": 45,
            "metadata": {},
            "outputs": [
                {
                    "data": {
                        "text/html": [
                            "<div>\n",
                            "<style scoped>\n",
                            "    .dataframe tbody tr th:only-of-type {\n",
                            "        vertical-align: middle;\n",
                            "    }\n",
                            "\n",
                            "    .dataframe tbody tr th {\n",
                            "        vertical-align: top;\n",
                            "    }\n",
                            "\n",
                            "    .dataframe thead th {\n",
                            "        text-align: right;\n",
                            "    }\n",
                            "</style>\n",
                            "<table border=\"1\" class=\"dataframe\">\n",
                            "  <thead>\n",
                            "    <tr style=\"text-align: right;\">\n",
                            "      <th></th>\n",
                            "      <th>age</th>\n",
                            "      <th>bmi</th>\n",
                            "      <th>children</th>\n",
                            "      <th>charges</th>\n",
                            "      <th>Sex_n</th>\n",
                            "      <th>smoker_n</th>\n",
                            "      <th>region_n</th>\n",
                            "    </tr>\n",
                            "  </thead>\n",
                            "  <tbody>\n",
                            "    <tr>\n",
                            "      <th>count</th>\n",
                            "      <td>1338.00</td>\n",
                            "      <td>1338.00</td>\n",
                            "      <td>1338.00</td>\n",
                            "      <td>1338.00</td>\n",
                            "      <td>1338.00</td>\n",
                            "      <td>1338.00</td>\n",
                            "      <td>1338.00</td>\n",
                            "    </tr>\n",
                            "    <tr>\n",
                            "      <th>mean</th>\n",
                            "      <td>39.21</td>\n",
                            "      <td>30.66</td>\n",
                            "      <td>1.09</td>\n",
                            "      <td>13270.42</td>\n",
                            "      <td>0.51</td>\n",
                            "      <td>0.80</td>\n",
                            "      <td>1.48</td>\n",
                            "    </tr>\n",
                            "    <tr>\n",
                            "      <th>std</th>\n",
                            "      <td>14.05</td>\n",
                            "      <td>6.10</td>\n",
                            "      <td>1.21</td>\n",
                            "      <td>12110.01</td>\n",
                            "      <td>0.50</td>\n",
                            "      <td>0.40</td>\n",
                            "      <td>1.10</td>\n",
                            "    </tr>\n",
                            "    <tr>\n",
                            "      <th>min</th>\n",
                            "      <td>18.00</td>\n",
                            "      <td>15.96</td>\n",
                            "      <td>0.00</td>\n",
                            "      <td>1121.87</td>\n",
                            "      <td>0.00</td>\n",
                            "      <td>0.00</td>\n",
                            "      <td>0.00</td>\n",
                            "    </tr>\n",
                            "    <tr>\n",
                            "      <th>25%</th>\n",
                            "      <td>27.00</td>\n",
                            "      <td>26.30</td>\n",
                            "      <td>0.00</td>\n",
                            "      <td>4740.29</td>\n",
                            "      <td>0.00</td>\n",
                            "      <td>1.00</td>\n",
                            "      <td>1.00</td>\n",
                            "    </tr>\n",
                            "    <tr>\n",
                            "      <th>50%</th>\n",
                            "      <td>39.00</td>\n",
                            "      <td>30.40</td>\n",
                            "      <td>1.00</td>\n",
                            "      <td>9382.03</td>\n",
                            "      <td>1.00</td>\n",
                            "      <td>1.00</td>\n",
                            "      <td>1.00</td>\n",
                            "    </tr>\n",
                            "    <tr>\n",
                            "      <th>75%</th>\n",
                            "      <td>51.00</td>\n",
                            "      <td>34.69</td>\n",
                            "      <td>2.00</td>\n",
                            "      <td>16639.91</td>\n",
                            "      <td>1.00</td>\n",
                            "      <td>1.00</td>\n",
                            "      <td>2.00</td>\n",
                            "    </tr>\n",
                            "    <tr>\n",
                            "      <th>max</th>\n",
                            "      <td>64.00</td>\n",
                            "      <td>53.13</td>\n",
                            "      <td>5.00</td>\n",
                            "      <td>63770.43</td>\n",
                            "      <td>1.00</td>\n",
                            "      <td>1.00</td>\n",
                            "      <td>3.00</td>\n",
                            "    </tr>\n",
                            "  </tbody>\n",
                            "</table>\n",
                            "</div>"
                        ],
                        "text/plain": [
                            "          age     bmi  children  charges   Sex_n  smoker_n  region_n\n",
                            "count 1338.00 1338.00   1338.00  1338.00 1338.00   1338.00   1338.00\n",
                            "mean    39.21   30.66      1.09 13270.42    0.51      0.80      1.48\n",
                            "std     14.05    6.10      1.21 12110.01    0.50      0.40      1.10\n",
                            "min     18.00   15.96      0.00  1121.87    0.00      0.00      0.00\n",
                            "25%     27.00   26.30      0.00  4740.29    0.00      1.00      1.00\n",
                            "50%     39.00   30.40      1.00  9382.03    1.00      1.00      1.00\n",
                            "75%     51.00   34.69      2.00 16639.91    1.00      1.00      2.00\n",
                            "max     64.00   53.13      5.00 63770.43    1.00      1.00      3.00"
                        ]
                    },
                    "execution_count": 45,
                    "metadata": {},
                    "output_type": "execute_result"
                }
            ],
            "source": [
                "df.describe()"
            ]
        },
        {
            "cell_type": "code",
            "execution_count": 46,
            "metadata": {},
            "outputs": [
                {
                    "data": {
                        "text/html": [
                            "<div>\n",
                            "<style scoped>\n",
                            "    .dataframe tbody tr th:only-of-type {\n",
                            "        vertical-align: middle;\n",
                            "    }\n",
                            "\n",
                            "    .dataframe tbody tr th {\n",
                            "        vertical-align: top;\n",
                            "    }\n",
                            "\n",
                            "    .dataframe thead th {\n",
                            "        text-align: right;\n",
                            "    }\n",
                            "</style>\n",
                            "<table border=\"1\" class=\"dataframe\">\n",
                            "  <thead>\n",
                            "    <tr style=\"text-align: right;\">\n",
                            "      <th></th>\n",
                            "      <th>age</th>\n",
                            "      <th>sex</th>\n",
                            "      <th>bmi</th>\n",
                            "      <th>children</th>\n",
                            "      <th>smoker</th>\n",
                            "      <th>region</th>\n",
                            "      <th>charges</th>\n",
                            "      <th>Sex_n</th>\n",
                            "      <th>smoker_n</th>\n",
                            "      <th>region_n</th>\n",
                            "    </tr>\n",
                            "  </thead>\n",
                            "  <tbody>\n",
                            "    <tr>\n",
                            "      <th>195</th>\n",
                            "      <td>19</td>\n",
                            "      <td>male</td>\n",
                            "      <td>30.59</td>\n",
                            "      <td>0</td>\n",
                            "      <td>no</td>\n",
                            "      <td>northwest</td>\n",
                            "      <td>1639.56</td>\n",
                            "      <td>1</td>\n",
                            "      <td>1</td>\n",
                            "      <td>2</td>\n",
                            "    </tr>\n",
                            "    <tr>\n",
                            "      <th>581</th>\n",
                            "      <td>19</td>\n",
                            "      <td>male</td>\n",
                            "      <td>30.59</td>\n",
                            "      <td>0</td>\n",
                            "      <td>no</td>\n",
                            "      <td>northwest</td>\n",
                            "      <td>1639.56</td>\n",
                            "      <td>1</td>\n",
                            "      <td>1</td>\n",
                            "      <td>2</td>\n",
                            "    </tr>\n",
                            "  </tbody>\n",
                            "</table>\n",
                            "</div>"
                        ],
                        "text/plain": [
                            "     age   sex   bmi  children smoker     region  charges  Sex_n  smoker_n  \\\n",
                            "195   19  male 30.59         0     no  northwest  1639.56      1         1   \n",
                            "581   19  male 30.59         0     no  northwest  1639.56      1         1   \n",
                            "\n",
                            "     region_n  \n",
                            "195         2  \n",
                            "581         2  "
                        ]
                    },
                    "execution_count": 46,
                    "metadata": {},
                    "output_type": "execute_result"
                }
            ],
            "source": [
                "df[df.duplicated(keep=False)]"
            ]
        },
        {
            "cell_type": "code",
            "execution_count": 47,
            "metadata": {},
            "outputs": [],
            "source": [
                "df.drop_duplicates(inplace=True)\n"
            ]
        },
        {
            "cell_type": "code",
            "execution_count": 48,
            "metadata": {},
            "outputs": [
                {
                    "data": {
                        "text/html": [
                            "<div>\n",
                            "<style scoped>\n",
                            "    .dataframe tbody tr th:only-of-type {\n",
                            "        vertical-align: middle;\n",
                            "    }\n",
                            "\n",
                            "    .dataframe tbody tr th {\n",
                            "        vertical-align: top;\n",
                            "    }\n",
                            "\n",
                            "    .dataframe thead th {\n",
                            "        text-align: right;\n",
                            "    }\n",
                            "</style>\n",
                            "<table border=\"1\" class=\"dataframe\">\n",
                            "  <thead>\n",
                            "    <tr style=\"text-align: right;\">\n",
                            "      <th></th>\n",
                            "      <th>age</th>\n",
                            "      <th>sex</th>\n",
                            "      <th>bmi</th>\n",
                            "      <th>children</th>\n",
                            "      <th>smoker</th>\n",
                            "      <th>region</th>\n",
                            "      <th>charges</th>\n",
                            "      <th>Sex_n</th>\n",
                            "      <th>smoker_n</th>\n",
                            "      <th>region_n</th>\n",
                            "    </tr>\n",
                            "  </thead>\n",
                            "  <tbody>\n",
                            "  </tbody>\n",
                            "</table>\n",
                            "</div>"
                        ],
                        "text/plain": [
                            "Empty DataFrame\n",
                            "Columns: [age, sex, bmi, children, smoker, region, charges, Sex_n, smoker_n, region_n]\n",
                            "Index: []"
                        ]
                    },
                    "execution_count": 48,
                    "metadata": {},
                    "output_type": "execute_result"
                }
            ],
            "source": [
                "df[df.duplicated(keep=False)]"
            ]
        },
        {
            "cell_type": "code",
            "execution_count": 49,
            "metadata": {},
            "outputs": [
                {
                    "data": {
                        "text/html": [
                            "<div>\n",
                            "<style scoped>\n",
                            "    .dataframe tbody tr th:only-of-type {\n",
                            "        vertical-align: middle;\n",
                            "    }\n",
                            "\n",
                            "    .dataframe tbody tr th {\n",
                            "        vertical-align: top;\n",
                            "    }\n",
                            "\n",
                            "    .dataframe thead th {\n",
                            "        text-align: right;\n",
                            "    }\n",
                            "</style>\n",
                            "<table border=\"1\" class=\"dataframe\">\n",
                            "  <thead>\n",
                            "    <tr style=\"text-align: right;\">\n",
                            "      <th></th>\n",
                            "      <th>age</th>\n",
                            "      <th>bmi</th>\n",
                            "      <th>children</th>\n",
                            "      <th>charges</th>\n",
                            "      <th>Sex_n</th>\n",
                            "      <th>smoker_n</th>\n",
                            "      <th>region_n</th>\n",
                            "    </tr>\n",
                            "  </thead>\n",
                            "  <tbody>\n",
                            "    <tr>\n",
                            "      <th>count</th>\n",
                            "      <td>1337.00</td>\n",
                            "      <td>1337.00</td>\n",
                            "      <td>1337.00</td>\n",
                            "      <td>1337.00</td>\n",
                            "      <td>1337.00</td>\n",
                            "      <td>1337.00</td>\n",
                            "      <td>1337.00</td>\n",
                            "    </tr>\n",
                            "    <tr>\n",
                            "      <th>mean</th>\n",
                            "      <td>39.22</td>\n",
                            "      <td>30.66</td>\n",
                            "      <td>1.10</td>\n",
                            "      <td>13279.12</td>\n",
                            "      <td>0.50</td>\n",
                            "      <td>0.80</td>\n",
                            "      <td>1.48</td>\n",
                            "    </tr>\n",
                            "    <tr>\n",
                            "      <th>std</th>\n",
                            "      <td>14.04</td>\n",
                            "      <td>6.10</td>\n",
                            "      <td>1.21</td>\n",
                            "      <td>12110.36</td>\n",
                            "      <td>0.50</td>\n",
                            "      <td>0.40</td>\n",
                            "      <td>1.11</td>\n",
                            "    </tr>\n",
                            "    <tr>\n",
                            "      <th>min</th>\n",
                            "      <td>18.00</td>\n",
                            "      <td>15.96</td>\n",
                            "      <td>0.00</td>\n",
                            "      <td>1121.87</td>\n",
                            "      <td>0.00</td>\n",
                            "      <td>0.00</td>\n",
                            "      <td>0.00</td>\n",
                            "    </tr>\n",
                            "    <tr>\n",
                            "      <th>25%</th>\n",
                            "      <td>27.00</td>\n",
                            "      <td>26.29</td>\n",
                            "      <td>0.00</td>\n",
                            "      <td>4746.34</td>\n",
                            "      <td>0.00</td>\n",
                            "      <td>1.00</td>\n",
                            "      <td>1.00</td>\n",
                            "    </tr>\n",
                            "    <tr>\n",
                            "      <th>50%</th>\n",
                            "      <td>39.00</td>\n",
                            "      <td>30.40</td>\n",
                            "      <td>1.00</td>\n",
                            "      <td>9386.16</td>\n",
                            "      <td>1.00</td>\n",
                            "      <td>1.00</td>\n",
                            "      <td>1.00</td>\n",
                            "    </tr>\n",
                            "    <tr>\n",
                            "      <th>75%</th>\n",
                            "      <td>51.00</td>\n",
                            "      <td>34.70</td>\n",
                            "      <td>2.00</td>\n",
                            "      <td>16657.72</td>\n",
                            "      <td>1.00</td>\n",
                            "      <td>1.00</td>\n",
                            "      <td>2.00</td>\n",
                            "    </tr>\n",
                            "    <tr>\n",
                            "      <th>max</th>\n",
                            "      <td>64.00</td>\n",
                            "      <td>53.13</td>\n",
                            "      <td>5.00</td>\n",
                            "      <td>63770.43</td>\n",
                            "      <td>1.00</td>\n",
                            "      <td>1.00</td>\n",
                            "      <td>3.00</td>\n",
                            "    </tr>\n",
                            "  </tbody>\n",
                            "</table>\n",
                            "</div>"
                        ],
                        "text/plain": [
                            "          age     bmi  children  charges   Sex_n  smoker_n  region_n\n",
                            "count 1337.00 1337.00   1337.00  1337.00 1337.00   1337.00   1337.00\n",
                            "mean    39.22   30.66      1.10 13279.12    0.50      0.80      1.48\n",
                            "std     14.04    6.10      1.21 12110.36    0.50      0.40      1.11\n",
                            "min     18.00   15.96      0.00  1121.87    0.00      0.00      0.00\n",
                            "25%     27.00   26.29      0.00  4746.34    0.00      1.00      1.00\n",
                            "50%     39.00   30.40      1.00  9386.16    1.00      1.00      1.00\n",
                            "75%     51.00   34.70      2.00 16657.72    1.00      1.00      2.00\n",
                            "max     64.00   53.13      5.00 63770.43    1.00      1.00      3.00"
                        ]
                    },
                    "execution_count": 49,
                    "metadata": {},
                    "output_type": "execute_result"
                }
            ],
            "source": [
                "df.describe()"
            ]
        },
        {
            "cell_type": "code",
            "execution_count": 50,
            "metadata": {},
            "outputs": [
                {
                    "data": {
                        "text/plain": [
                            "age         0\n",
                            "sex         0\n",
                            "bmi         0\n",
                            "children    0\n",
                            "smoker      0\n",
                            "region      0\n",
                            "charges     0\n",
                            "Sex_n       0\n",
                            "smoker_n    0\n",
                            "region_n    0\n",
                            "dtype: int64"
                        ]
                    },
                    "execution_count": 50,
                    "metadata": {},
                    "output_type": "execute_result"
                }
            ],
            "source": [
                "df.isna().sum()"
            ]
        },
        {
            "cell_type": "markdown",
            "metadata": {},
            "source": [
                "Factorizamos"
            ]
        },
        {
            "cell_type": "code",
            "execution_count": 51,
            "metadata": {},
            "outputs": [
                {
                    "data": {
                        "text/html": [
                            "<div>\n",
                            "<style scoped>\n",
                            "    .dataframe tbody tr th:only-of-type {\n",
                            "        vertical-align: middle;\n",
                            "    }\n",
                            "\n",
                            "    .dataframe tbody tr th {\n",
                            "        vertical-align: top;\n",
                            "    }\n",
                            "\n",
                            "    .dataframe thead th {\n",
                            "        text-align: right;\n",
                            "    }\n",
                            "</style>\n",
                            "<table border=\"1\" class=\"dataframe\">\n",
                            "  <thead>\n",
                            "    <tr style=\"text-align: right;\">\n",
                            "      <th></th>\n",
                            "      <th>age</th>\n",
                            "      <th>sex</th>\n",
                            "      <th>bmi</th>\n",
                            "      <th>children</th>\n",
                            "      <th>smoker</th>\n",
                            "      <th>region</th>\n",
                            "      <th>charges</th>\n",
                            "      <th>Sex_n</th>\n",
                            "      <th>smoker_n</th>\n",
                            "      <th>region_n</th>\n",
                            "    </tr>\n",
                            "  </thead>\n",
                            "  <tbody>\n",
                            "    <tr>\n",
                            "      <th>0</th>\n",
                            "      <td>19</td>\n",
                            "      <td>female</td>\n",
                            "      <td>27.90</td>\n",
                            "      <td>0</td>\n",
                            "      <td>yes</td>\n",
                            "      <td>southwest</td>\n",
                            "      <td>16884.92</td>\n",
                            "      <td>0</td>\n",
                            "      <td>0</td>\n",
                            "      <td>0</td>\n",
                            "    </tr>\n",
                            "    <tr>\n",
                            "      <th>1</th>\n",
                            "      <td>18</td>\n",
                            "      <td>male</td>\n",
                            "      <td>33.77</td>\n",
                            "      <td>1</td>\n",
                            "      <td>no</td>\n",
                            "      <td>southeast</td>\n",
                            "      <td>1725.55</td>\n",
                            "      <td>1</td>\n",
                            "      <td>1</td>\n",
                            "      <td>1</td>\n",
                            "    </tr>\n",
                            "  </tbody>\n",
                            "</table>\n",
                            "</div>"
                        ],
                        "text/plain": [
                            "   age     sex   bmi  children smoker     region  charges  Sex_n  smoker_n  \\\n",
                            "0   19  female 27.90         0    yes  southwest 16884.92      0         0   \n",
                            "1   18    male 33.77         1     no  southeast  1725.55      1         1   \n",
                            "\n",
                            "   region_n  \n",
                            "0         0  \n",
                            "1         1  "
                        ]
                    },
                    "execution_count": 51,
                    "metadata": {},
                    "output_type": "execute_result"
                }
            ],
            "source": [
                "df['Sex_n'] = pd.factorize(df['sex'])[0]\n",
                "df['smoker_n'] = pd.factorize(df['smoker'])[0]\n",
                "df['region_n'] = pd.factorize(df['region'])[0]\n",
                "df.head(2)"
            ]
        },
        {
            "cell_type": "code",
            "execution_count": 52,
            "metadata": {},
            "outputs": [
                {
                    "data": {
                        "text/html": [
                            "<div>\n",
                            "<style scoped>\n",
                            "    .dataframe tbody tr th:only-of-type {\n",
                            "        vertical-align: middle;\n",
                            "    }\n",
                            "\n",
                            "    .dataframe tbody tr th {\n",
                            "        vertical-align: top;\n",
                            "    }\n",
                            "\n",
                            "    .dataframe thead th {\n",
                            "        text-align: right;\n",
                            "    }\n",
                            "</style>\n",
                            "<table border=\"1\" class=\"dataframe\">\n",
                            "  <thead>\n",
                            "    <tr style=\"text-align: right;\">\n",
                            "      <th></th>\n",
                            "      <th>age</th>\n",
                            "      <th>bmi</th>\n",
                            "      <th>children</th>\n",
                            "      <th>charges</th>\n",
                            "      <th>Sex_n</th>\n",
                            "      <th>smoker_n</th>\n",
                            "      <th>region_n</th>\n",
                            "    </tr>\n",
                            "  </thead>\n",
                            "  <tbody>\n",
                            "    <tr>\n",
                            "      <th>0</th>\n",
                            "      <td>19</td>\n",
                            "      <td>27.90</td>\n",
                            "      <td>0</td>\n",
                            "      <td>16884.92</td>\n",
                            "      <td>0</td>\n",
                            "      <td>0</td>\n",
                            "      <td>0</td>\n",
                            "    </tr>\n",
                            "    <tr>\n",
                            "      <th>1</th>\n",
                            "      <td>18</td>\n",
                            "      <td>33.77</td>\n",
                            "      <td>1</td>\n",
                            "      <td>1725.55</td>\n",
                            "      <td>1</td>\n",
                            "      <td>1</td>\n",
                            "      <td>1</td>\n",
                            "    </tr>\n",
                            "  </tbody>\n",
                            "</table>\n",
                            "</div>"
                        ],
                        "text/plain": [
                            "   age   bmi  children  charges  Sex_n  smoker_n  region_n\n",
                            "0   19 27.90         0 16884.92      0         0         0\n",
                            "1   18 33.77         1  1725.55      1         1         1"
                        ]
                    },
                    "execution_count": 52,
                    "metadata": {},
                    "output_type": "execute_result"
                }
            ],
            "source": [
                "\n",
                "\n",
                "df_numerico = df.drop(['sex', 'region', 'smoker'], axis=1)\n",
                "df_numerico.head(2)"
            ]
        },
        {
            "cell_type": "markdown",
            "metadata": {},
            "source": [
                "Escalado de datos"
            ]
        },
        {
            "cell_type": "code",
            "execution_count": 53,
            "metadata": {},
            "outputs": [
                {
                    "data": {
                        "text/html": [
                            "<div>\n",
                            "<style scoped>\n",
                            "    .dataframe tbody tr th:only-of-type {\n",
                            "        vertical-align: middle;\n",
                            "    }\n",
                            "\n",
                            "    .dataframe tbody tr th {\n",
                            "        vertical-align: top;\n",
                            "    }\n",
                            "\n",
                            "    .dataframe thead th {\n",
                            "        text-align: right;\n",
                            "    }\n",
                            "</style>\n",
                            "<table border=\"1\" class=\"dataframe\">\n",
                            "  <thead>\n",
                            "    <tr style=\"text-align: right;\">\n",
                            "      <th></th>\n",
                            "      <th>age</th>\n",
                            "      <th>bmi</th>\n",
                            "      <th>children</th>\n",
                            "      <th>charges</th>\n",
                            "      <th>Sex_n</th>\n",
                            "      <th>smoker_n</th>\n",
                            "      <th>region_n</th>\n",
                            "    </tr>\n",
                            "  </thead>\n",
                            "  <tbody>\n",
                            "    <tr>\n",
                            "      <th>0</th>\n",
                            "      <td>0.02</td>\n",
                            "      <td>0.32</td>\n",
                            "      <td>0.00</td>\n",
                            "      <td>0.25</td>\n",
                            "      <td>0.00</td>\n",
                            "      <td>0.00</td>\n",
                            "      <td>0.00</td>\n",
                            "    </tr>\n",
                            "    <tr>\n",
                            "      <th>1</th>\n",
                            "      <td>0.00</td>\n",
                            "      <td>0.48</td>\n",
                            "      <td>0.20</td>\n",
                            "      <td>0.01</td>\n",
                            "      <td>1.00</td>\n",
                            "      <td>1.00</td>\n",
                            "      <td>0.33</td>\n",
                            "    </tr>\n",
                            "  </tbody>\n",
                            "</table>\n",
                            "</div>"
                        ],
                        "text/plain": [
                            "   age  bmi  children  charges  Sex_n  smoker_n  region_n\n",
                            "0 0.02 0.32      0.00     0.25   0.00      0.00      0.00\n",
                            "1 0.00 0.48      0.20     0.01   1.00      1.00      0.33"
                        ]
                    },
                    "execution_count": 53,
                    "metadata": {},
                    "output_type": "execute_result"
                }
            ],
            "source": [
                "escalador = MinMaxScaler()\n",
                "df_escalados = escalador.fit_transform(df_numerico)\n",
                "df_proces = pd.DataFrame(df_escalados, index= df.index, columns= df_numerico.columns)\n",
                "df_proces.head(2)"
            ]
        },
        {
            "cell_type": "markdown",
            "metadata": {},
            "source": [
                "Grafico de variables"
            ]
        },
        {
            "cell_type": "code",
            "execution_count": 54,
            "metadata": {},
            "outputs": [
                {
                    "data": {
                        "image/png": "[encoded data removed]",
                        "text/plain": [
                            "<Figure size 1700x1500 with 6 Axes>"
                        ]
                    },
                    "metadata": {},
                    "output_type": "display_data"
                }
            ],
            "source": [
                "fig, axis = plt.subplots(2,3 , figsize=(17,15))\n",
                "sns.histplot( ax = axis[0,0], data = df, x= \"age\")\n",
                "sns.histplot( ax = axis[0,1], data = df, x= \"bmi\")\n",
                "sns.histplot( ax = axis[0,2], data = df, x= \"children\")\n",
                "sns.histplot( ax = axis[1,0], data = df, x= \"sex\")\n",
                "sns.histplot( ax = axis[1,1], data = df, x= \"smoker\")\n",
                "sns.histplot( ax = axis[1,2], data = df, x= \"region\", log_scale=True)\n",
                "plt.tight_layout\n",
                "plt.show()"
            ]
        },
        {
            "cell_type": "markdown",
            "metadata": {},
            "source": [
                "VALIDAMOS LA CORRELACIÓN"
            ]
        },
        {
            "cell_type": "code",
            "execution_count": 55,
            "metadata": {},
            "outputs": [
                {
                    "data": {
                        "text/html": [
                            "<style type=\"text/css\">\n",
                            "#T_08d8b_row0_col0, #T_08d8b_row1_col1, #T_08d8b_row2_col2, #T_08d8b_row3_col3, #T_08d8b_row4_col4, #T_08d8b_row5_col5, #T_08d8b_row6_col6 {\n",
                            "  background-color: #b40426;\n",
                            "  color: #f1f1f1;\n",
                            "}\n",
                            "#T_08d8b_row0_col1 {\n",
                            "  background-color: #86a9fc;\n",
                            "  color: #f1f1f1;\n",
                            "}\n",
                            "#T_08d8b_row0_col2 {\n",
                            "  background-color: #4b64d5;\n",
                            "  color: #f1f1f1;\n",
                            "}\n",
                            "#T_08d8b_row0_col3 {\n",
                            "  background-color: #f2c9b4;\n",
                            "  color: #000000;\n",
                            "}\n",
                            "#T_08d8b_row0_col4 {\n",
                            "  background-color: #4a63d3;\n",
                            "  color: #f1f1f1;\n",
                            "}\n",
                            "#T_08d8b_row0_col5 {\n",
                            "  background-color: #d1dae9;\n",
                            "  color: #000000;\n",
                            "}\n",
                            "#T_08d8b_row0_col6, #T_08d8b_row5_col1, #T_08d8b_row5_col6 {\n",
                            "  background-color: #6485ec;\n",
                            "  color: #f1f1f1;\n",
                            "}\n",
                            "#T_08d8b_row1_col0, #T_08d8b_row3_col4 {\n",
                            "  background-color: #6282ea;\n",
                            "  color: #f1f1f1;\n",
                            "}\n",
                            "#T_08d8b_row1_col2 {\n",
                            "  background-color: #4358cb;\n",
                            "  color: #f1f1f1;\n",
                            "}\n",
                            "#T_08d8b_row1_col3 {\n",
                            "  background-color: #ead5c9;\n",
                            "  color: #000000;\n",
                            "}\n",
                            "#T_08d8b_row1_col4 {\n",
                            "  background-color: #5e7de7;\n",
                            "  color: #f1f1f1;\n",
                            "}\n",
                            "#T_08d8b_row1_col5, #T_08d8b_row6_col5 {\n",
                            "  background-color: #ccd9ed;\n",
                            "  color: #000000;\n",
                            "}\n",
                            "#T_08d8b_row1_col6, #T_08d8b_row3_col5, #T_08d8b_row4_col0, #T_08d8b_row5_col3, #T_08d8b_row5_col4, #T_08d8b_row6_col1, #T_08d8b_row6_col2 {\n",
                            "  background-color: #3b4cc0;\n",
                            "  color: #f1f1f1;\n",
                            "}\n",
                            "#T_08d8b_row2_col0 {\n",
                            "  background-color: #4c66d6;\n",
                            "  color: #f1f1f1;\n",
                            "}\n",
                            "#T_08d8b_row2_col1 {\n",
                            "  background-color: #688aef;\n",
                            "  color: #f1f1f1;\n",
                            "}\n",
                            "#T_08d8b_row2_col3 {\n",
                            "  background-color: #d7dce3;\n",
                            "  color: #000000;\n",
                            "}\n",
                            "#T_08d8b_row2_col4 {\n",
                            "  background-color: #5572df;\n",
                            "  color: #f1f1f1;\n",
                            "}\n",
                            "#T_08d8b_row2_col5 {\n",
                            "  background-color: #cbd8ee;\n",
                            "  color: #000000;\n",
                            "}\n",
                            "#T_08d8b_row2_col6 {\n",
                            "  background-color: #6180e9;\n",
                            "  color: #f1f1f1;\n",
                            "}\n",
                            "#T_08d8b_row3_col0 {\n",
                            "  background-color: #a2c1ff;\n",
                            "  color: #000000;\n",
                            "}\n",
                            "#T_08d8b_row3_col1 {\n",
                            "  background-color: #a1c0ff;\n",
                            "  color: #000000;\n",
                            "}\n",
                            "#T_08d8b_row3_col2 {\n",
                            "  background-color: #5470de;\n",
                            "  color: #f1f1f1;\n",
                            "}\n",
                            "#T_08d8b_row3_col6 {\n",
                            "  background-color: #6788ee;\n",
                            "  color: #f1f1f1;\n",
                            "}\n",
                            "#T_08d8b_row4_col1 {\n",
                            "  background-color: #7396f5;\n",
                            "  color: #f1f1f1;\n",
                            "}\n",
                            "#T_08d8b_row4_col2 {\n",
                            "  background-color: #445acc;\n",
                            "  color: #f1f1f1;\n",
                            "}\n",
                            "#T_08d8b_row4_col3 {\n",
                            "  background-color: #d6dce4;\n",
                            "  color: #000000;\n",
                            "}\n",
                            "#T_08d8b_row4_col5 {\n",
                            "  background-color: #bfd3f6;\n",
                            "  color: #000000;\n",
                            "}\n",
                            "#T_08d8b_row4_col6 {\n",
                            "  background-color: #6384eb;\n",
                            "  color: #f1f1f1;\n",
                            "}\n",
                            "#T_08d8b_row5_col0 {\n",
                            "  background-color: #485fd1;\n",
                            "  color: #f1f1f1;\n",
                            "}\n",
                            "#T_08d8b_row5_col2 {\n",
                            "  background-color: #3d50c3;\n",
                            "  color: #f1f1f1;\n",
                            "}\n",
                            "#T_08d8b_row6_col0 {\n",
                            "  background-color: #3f53c6;\n",
                            "  color: #f1f1f1;\n",
                            "}\n",
                            "#T_08d8b_row6_col3 {\n",
                            "  background-color: #cdd9ec;\n",
                            "  color: #000000;\n",
                            "}\n",
                            "#T_08d8b_row6_col4 {\n",
                            "  background-color: #4f69d9;\n",
                            "  color: #f1f1f1;\n",
                            "}\n",
                            "</style>\n",
                            "<table id=\"T_08d8b\">\n",
                            "  <thead>\n",
                            "    <tr>\n",
                            "      <th class=\"blank level0\" >&nbsp;</th>\n",
                            "      <th id=\"T_08d8b_level0_col0\" class=\"col_heading level0 col0\" >age</th>\n",
                            "      <th id=\"T_08d8b_level0_col1\" class=\"col_heading level0 col1\" >bmi</th>\n",
                            "      <th id=\"T_08d8b_level0_col2\" class=\"col_heading level0 col2\" >children</th>\n",
                            "      <th id=\"T_08d8b_level0_col3\" class=\"col_heading level0 col3\" >charges</th>\n",
                            "      <th id=\"T_08d8b_level0_col4\" class=\"col_heading level0 col4\" >Sex_n</th>\n",
                            "      <th id=\"T_08d8b_level0_col5\" class=\"col_heading level0 col5\" >smoker_n</th>\n",
                            "      <th id=\"T_08d8b_level0_col6\" class=\"col_heading level0 col6\" >region_n</th>\n",
                            "    </tr>\n",
                            "  </thead>\n",
                            "  <tbody>\n",
                            "    <tr>\n",
                            "      <th id=\"T_08d8b_level0_row0\" class=\"row_heading level0 row0\" >age</th>\n",
                            "      <td id=\"T_08d8b_row0_col0\" class=\"data row0 col0\" >1.00</td>\n",
                            "      <td id=\"T_08d8b_row0_col1\" class=\"data row0 col1\" >0.11</td>\n",
                            "      <td id=\"T_08d8b_row0_col2\" class=\"data row0 col2\" >0.04</td>\n",
                            "      <td id=\"T_08d8b_row0_col3\" class=\"data row0 col3\" >0.30</td>\n",
                            "      <td id=\"T_08d8b_row0_col4\" class=\"data row0 col4\" >-0.02</td>\n",
                            "      <td id=\"T_08d8b_row0_col5\" class=\"data row0 col5\" >0.03</td>\n",
                            "      <td id=\"T_08d8b_row0_col6\" class=\"data row0 col6\" >-0.00</td>\n",
                            "    </tr>\n",
                            "    <tr>\n",
                            "      <th id=\"T_08d8b_level0_row1\" class=\"row_heading level0 row1\" >bmi</th>\n",
                            "      <td id=\"T_08d8b_row1_col0\" class=\"data row1 col0\" >0.11</td>\n",
                            "      <td id=\"T_08d8b_row1_col1\" class=\"data row1 col1\" >1.00</td>\n",
                            "      <td id=\"T_08d8b_row1_col2\" class=\"data row1 col2\" >0.01</td>\n",
                            "      <td id=\"T_08d8b_row1_col3\" class=\"data row1 col3\" >0.20</td>\n",
                            "      <td id=\"T_08d8b_row1_col4\" class=\"data row1 col4\" >0.05</td>\n",
                            "      <td id=\"T_08d8b_row1_col5\" class=\"data row1 col5\" >-0.00</td>\n",
                            "      <td id=\"T_08d8b_row1_col6\" class=\"data row1 col6\" >-0.16</td>\n",
                            "    </tr>\n",
                            "    <tr>\n",
                            "      <th id=\"T_08d8b_level0_row2\" class=\"row_heading level0 row2\" >children</th>\n",
                            "      <td id=\"T_08d8b_row2_col0\" class=\"data row2 col0\" >0.04</td>\n",
                            "      <td id=\"T_08d8b_row2_col1\" class=\"data row2 col1\" >0.01</td>\n",
                            "      <td id=\"T_08d8b_row2_col2\" class=\"data row2 col2\" >1.00</td>\n",
                            "      <td id=\"T_08d8b_row2_col3\" class=\"data row2 col3\" >0.07</td>\n",
                            "      <td id=\"T_08d8b_row2_col4\" class=\"data row2 col4\" >0.02</td>\n",
                            "      <td id=\"T_08d8b_row2_col5\" class=\"data row2 col5\" >-0.01</td>\n",
                            "      <td id=\"T_08d8b_row2_col6\" class=\"data row2 col6\" >-0.02</td>\n",
                            "    </tr>\n",
                            "    <tr>\n",
                            "      <th id=\"T_08d8b_level0_row3\" class=\"row_heading level0 row3\" >charges</th>\n",
                            "      <td id=\"T_08d8b_row3_col0\" class=\"data row3 col0\" >0.30</td>\n",
                            "      <td id=\"T_08d8b_row3_col1\" class=\"data row3 col1\" >0.20</td>\n",
                            "      <td id=\"T_08d8b_row3_col2\" class=\"data row3 col2\" >0.07</td>\n",
                            "      <td id=\"T_08d8b_row3_col3\" class=\"data row3 col3\" >1.00</td>\n",
                            "      <td id=\"T_08d8b_row3_col4\" class=\"data row3 col4\" >0.06</td>\n",
                            "      <td id=\"T_08d8b_row3_col5\" class=\"data row3 col5\" >-0.79</td>\n",
                            "      <td id=\"T_08d8b_row3_col6\" class=\"data row3 col6\" >0.01</td>\n",
                            "    </tr>\n",
                            "    <tr>\n",
                            "      <th id=\"T_08d8b_level0_row4\" class=\"row_heading level0 row4\" >Sex_n</th>\n",
                            "      <td id=\"T_08d8b_row4_col0\" class=\"data row4 col0\" >-0.02</td>\n",
                            "      <td id=\"T_08d8b_row4_col1\" class=\"data row4 col1\" >0.05</td>\n",
                            "      <td id=\"T_08d8b_row4_col2\" class=\"data row4 col2\" >0.02</td>\n",
                            "      <td id=\"T_08d8b_row4_col3\" class=\"data row4 col3\" >0.06</td>\n",
                            "      <td id=\"T_08d8b_row4_col4\" class=\"data row4 col4\" >1.00</td>\n",
                            "      <td id=\"T_08d8b_row4_col5\" class=\"data row4 col5\" >-0.08</td>\n",
                            "      <td id=\"T_08d8b_row4_col6\" class=\"data row4 col6\" >-0.00</td>\n",
                            "    </tr>\n",
                            "    <tr>\n",
                            "      <th id=\"T_08d8b_level0_row5\" class=\"row_heading level0 row5\" >smoker_n</th>\n",
                            "      <td id=\"T_08d8b_row5_col0\" class=\"data row5 col0\" >0.03</td>\n",
                            "      <td id=\"T_08d8b_row5_col1\" class=\"data row5 col1\" >-0.00</td>\n",
                            "      <td id=\"T_08d8b_row5_col2\" class=\"data row5 col2\" >-0.01</td>\n",
                            "      <td id=\"T_08d8b_row5_col3\" class=\"data row5 col3\" >-0.79</td>\n",
                            "      <td id=\"T_08d8b_row5_col4\" class=\"data row5 col4\" >-0.08</td>\n",
                            "      <td id=\"T_08d8b_row5_col5\" class=\"data row5 col5\" >1.00</td>\n",
                            "      <td id=\"T_08d8b_row5_col6\" class=\"data row5 col6\" >-0.00</td>\n",
                            "    </tr>\n",
                            "    <tr>\n",
                            "      <th id=\"T_08d8b_level0_row6\" class=\"row_heading level0 row6\" >region_n</th>\n",
                            "      <td id=\"T_08d8b_row6_col0\" class=\"data row6 col0\" >-0.00</td>\n",
                            "      <td id=\"T_08d8b_row6_col1\" class=\"data row6 col1\" >-0.16</td>\n",
                            "      <td id=\"T_08d8b_row6_col2\" class=\"data row6 col2\" >-0.02</td>\n",
                            "      <td id=\"T_08d8b_row6_col3\" class=\"data row6 col3\" >0.01</td>\n",
                            "      <td id=\"T_08d8b_row6_col4\" class=\"data row6 col4\" >-0.00</td>\n",
                            "      <td id=\"T_08d8b_row6_col5\" class=\"data row6 col5\" >-0.00</td>\n",
                            "      <td id=\"T_08d8b_row6_col6\" class=\"data row6 col6\" >1.00</td>\n",
                            "    </tr>\n",
                            "  </tbody>\n",
                            "</table>\n"
                        ],
                        "text/plain": [
                            "<pandas.io.formats.style.Styler at 0x7f26a8209550>"
                        ]
                    },
                    "execution_count": 55,
                    "metadata": {},
                    "output_type": "execute_result"
                }
            ],
            "source": [
                "df_corr = df_proces.corr()\n",
                "df_corr.style.background_gradient(cmap='coolwarm').format(precision=2)"
            ]
        },
        {
            "cell_type": "markdown",
            "metadata": {},
            "source": [
                "Mediante el estudio de la correlación podemos observar que:\n",
                "Las variables que tienen mas incidencias son en primer lugar si es fumador, la edad y la masa muscular"
            ]
        },
        {
            "cell_type": "code",
            "execution_count": 56,
            "metadata": {},
            "outputs": [
                {
                    "data": {
                        "image/png": "[encoded data removed]",
                        "text/plain": [
                            "<Figure size 1000x500 with 3 Axes>"
                        ]
                    },
                    "metadata": {},
                    "output_type": "display_data"
                }
            ],
            "source": [
                "fig, axis = plt.subplots(figsize = (10, 5), ncols = 3)\n",
                "\n",
                "sns.regplot(ax = axis[0], data = df, x = \"age\", y = \"charges\")\n",
                "sns.regplot(ax = axis[1], data = df, x = \"bmi\", y = \"charges\")\n",
                "sns.regplot(ax = axis[2], data = df, x = \"smoker_n\", y = \"charges\")\n",
                "plt.tight_layout()\n",
                "\n",
                "plt.show()"
            ]
        },
        {
            "cell_type": "markdown",
            "metadata": {},
            "source": []
        },
        {
            "cell_type": "markdown",
            "metadata": {},
            "source": [
                "Partición"
            ]
        },
        {
            "cell_type": "code",
            "execution_count": 57,
            "metadata": {},
            "outputs": [],
            "source": [
                "X = df_proces.drop(\"charges\", axis = 1)\n",
                "y = df_proces[\"charges\"]"
            ]
        },
        {
            "cell_type": "code",
            "execution_count": 58,
            "metadata": {},
            "outputs": [],
            "source": [
                "X_train, X_test, y_train, y_test = train_test_split(X, y, test_size=0.2, random_state=42)"
            ]
        },
        {
            "cell_type": "markdown",
            "metadata": {},
            "source": [
                "Selección del algoritmo"
            ]
        },
        {
            "cell_type": "code",
            "execution_count": 59,
            "metadata": {},
            "outputs": [
                {
                    "name": "stderr",
                    "output_type": "stream",
                    "text": [
                        "  0%|          | 0/42 [00:00<?, ?it/s]"
                    ]
                },
                {
                    "name": "stderr",
                    "output_type": "stream",
                    "text": [
                        "100%|██████████| 42/42 [00:02<00:00, 16.48it/s]"
                    ]
                },
                {
                    "name": "stdout",
                    "output_type": "stream",
                    "text": [
                        "[LightGBM] [Info] Auto-choosing row-wise multi-threading, the overhead of testing was 0.000026 seconds.\n",
                        "You can set `force_row_wise=true` to remove the overhead.\n",
                        "And if memory is not enough, you can set `force_col_wise=true`.\n",
                        "[LightGBM] [Info] Total Bins 321\n",
                        "[LightGBM] [Info] Number of data points in the train set: 1069, number of used features: 6\n",
                        "[LightGBM] [Info] Start training from score 0.190081\n"
                    ]
                },
                {
                    "name": "stderr",
                    "output_type": "stream",
                    "text": [
                        "\n"
                    ]
                }
            ],
            "source": [
                "reg = LazyRegressor()\n",
                "models, predictions = reg.fit(X_train, X_test, y_train, y_test)\n"
            ]
        },
        {
            "cell_type": "code",
            "execution_count": 60,
            "metadata": {},
            "outputs": [
                {
                    "name": "stdout",
                    "output_type": "stream",
                    "text": [
                        "                               Adjusted R-Squared  R-Squared  RMSE  Time Taken\n",
                        "Model                                                                         \n",
                        "GradientBoostingRegressor                    0.90       0.90  0.07        0.18\n",
                        "HistGradientBoostingRegressor                0.89       0.89  0.07        0.26\n",
                        "LGBMRegressor                                0.88       0.89  0.07        0.05\n",
                        "BaggingRegressor                             0.88       0.88  0.07        0.04\n",
                        "NuSVR                                        0.88       0.88  0.07        0.70\n",
                        "RandomForestRegressor                        0.88       0.88  0.08        0.24\n",
                        "XGBRegressor                                 0.87       0.87  0.08        0.06\n",
                        "KNeighborsRegressor                          0.86       0.86  0.08        0.01\n",
                        "MLPRegressor                                 0.86       0.86  0.08        0.19\n",
                        "ExtraTreesRegressor                          0.85       0.85  0.08        0.18\n",
                        "AdaBoostRegressor                            0.83       0.83  0.09        0.03\n",
                        "SGDRegressor                                 0.80       0.81  0.09        0.01\n",
                        "Lars                                         0.80       0.81  0.10        0.04\n",
                        "LinearRegression                             0.80       0.81  0.10        0.01\n",
                        "TransformedTargetRegressor                   0.80       0.81  0.10        0.01\n",
                        "Ridge                                        0.80       0.81  0.10        0.01\n",
                        "RidgeCV                                      0.80       0.81  0.10        0.01\n",
                        "BayesianRidge                                0.80       0.81  0.10        0.01\n",
                        "LassoLarsIC                                  0.80       0.81  0.10        0.01\n",
                        "LassoLarsCV                                  0.80       0.80  0.10        0.01\n",
                        "LarsCV                                       0.80       0.80  0.10        0.02\n",
                        "LassoCV                                      0.80       0.80  0.10        0.07\n",
                        "ElasticNetCV                                 0.80       0.80  0.10        0.07\n",
                        "OrthogonalMatchingPursuitCV                  0.80       0.80  0.10        0.01\n",
                        "ExtraTreeRegressor                           0.79       0.80  0.10        0.01\n",
                        "HuberRegressor                               0.78       0.79  0.10        0.02\n",
                        "LinearSVR                                    0.78       0.78  0.10        0.04\n",
                        "SVR                                          0.77       0.77  0.10        0.04\n",
                        "DecisionTreeRegressor                        0.76       0.77  0.10        0.01\n",
                        "OrthogonalMatchingPursuit                    0.67       0.67  0.12        0.01\n",
                        "PassiveAggressiveRegressor                   0.62       0.63  0.13        0.01\n",
                        "RANSACRegressor                              0.55       0.56  0.14        0.02\n",
                        "TweedieRegressor                             0.54       0.55  0.14        0.01\n",
                        "PoissonRegressor                             0.20       0.22  0.19        0.01\n",
                        "DummyRegressor                              -0.03      -0.01  0.22        0.01\n",
                        "ElasticNet                                  -0.03      -0.01  0.22        0.01\n",
                        "LassoLars                                   -0.03      -0.01  0.22        0.01\n",
                        "Lasso                                       -0.03      -0.01  0.22        0.01\n",
                        "KernelRidge                                 -0.04      -0.02  0.22        0.04\n",
                        "GaussianProcessRegressor                 -2695.37   -2634.78 11.11        0.10\n"
                    ]
                }
            ],
            "source": [
                "print(models)"
            ]
        },
        {
            "cell_type": "markdown",
            "metadata": {},
            "source": [
                "Inicialización y entrenamiento del modelo"
            ]
        },
        {
            "cell_type": "code",
            "execution_count": 61,
            "metadata": {},
            "outputs": [],
            "source": [
                "model = LGBMRegressor(n_estimators=100, learning_rate=0.1)"
            ]
        },
        {
            "cell_type": "code",
            "execution_count": 62,
            "metadata": {},
            "outputs": [
                {
                    "name": "stdout",
                    "output_type": "stream",
                    "text": [
                        "[LightGBM] [Info] Auto-choosing col-wise multi-threading, the overhead of testing was 0.000156 seconds.\n",
                        "You can set `force_col_wise=true` to remove the overhead.\n",
                        "[LightGBM] [Info] Total Bins 315\n",
                        "[LightGBM] [Info] Number of data points in the train set: 1069, number of used features: 6\n",
                        "[LightGBM] [Info] Start training from score 0.190081\n"
                    ]
                }
            ],
            "source": [
                "model.fit(X_train, y_train)\n",
                "y_pred = model.predict(X_test)"
            ]
        },
        {
            "cell_type": "markdown",
            "metadata": {},
            "source": [
                "Para calcular la efectividad del modelo utilizaremos el error cuadrático medio (MSE)"
            ]
        },
        {
            "cell_type": "code",
            "execution_count": 63,
            "metadata": {},
            "outputs": [
                {
                    "name": "stdout",
                    "output_type": "stream",
                    "text": [
                        "El error cuadratico medio es 0.07353899926636953\n"
                    ]
                }
            ],
            "source": [
                "rmse= mean_squared_error(y_test,y_pred, squared=False)\n",
                "print(f'El error cuadratico medio es {rmse}')"
            ]
        },
        {
            "cell_type": "code",
            "execution_count": 64,
            "metadata": {},
            "outputs": [
                {
                    "name": "stdout",
                    "output_type": "stream",
                    "text": [
                        "[LightGBM] [Info] Auto-choosing col-wise multi-threading, the overhead of testing was 0.000143 seconds.\n",
                        "You can set `force_col_wise=true` to remove the overhead.\n",
                        "[LightGBM] [Info] Total Bins 316\n",
                        "[LightGBM] [Info] Number of data points in the train set: 1069, number of used features: 6\n",
                        "[LightGBM] [Info] Start training from score 0.192682\n",
                        "[LightGBM] [Info] Auto-choosing col-wise multi-threading, the overhead of testing was 0.000143 seconds.\n",
                        "You can set `force_col_wise=true` to remove the overhead.\n",
                        "[LightGBM] [Info] Total Bins 316\n",
                        "[LightGBM] [Info] Number of data points in the train set: 1069, number of used features: 6\n",
                        "[LightGBM] [Info] Start training from score 0.194977\n",
                        "[LightGBM] [Info] Auto-choosing col-wise multi-threading, the overhead of testing was 0.000133 seconds.\n",
                        "You can set `force_col_wise=true` to remove the overhead.\n",
                        "[LightGBM] [Info] Total Bins 316\n",
                        "[LightGBM] [Info] Number of data points in the train set: 1070, number of used features: 6\n",
                        "[LightGBM] [Info] Start training from score 0.195458\n",
                        "[LightGBM] [Info] Auto-choosing col-wise multi-threading, the overhead of testing was 0.000142 seconds.\n",
                        "You can set `force_col_wise=true` to remove the overhead.\n",
                        "[LightGBM] [Info] Total Bins 316\n",
                        "[LightGBM] [Info] Number of data points in the train set: 1070, number of used features: 6\n",
                        "[LightGBM] [Info] Start training from score 0.193569\n",
                        "[LightGBM] [Info] Auto-choosing col-wise multi-threading, the overhead of testing was 0.000117 seconds.\n",
                        "You can set `force_col_wise=true` to remove the overhead.\n",
                        "[LightGBM] [Info] Total Bins 316\n",
                        "[LightGBM] [Info] Number of data points in the train set: 1070, number of used features: 6\n",
                        "[LightGBM] [Info] Start training from score 0.193588\n",
                        "-0.044518244277517285\n"
                    ]
                }
            ],
            "source": [
                "mae = cross_val_score(model, X,y, scoring='neg_mean_absolute_error',cv=5)\n",
                "print(np.mean(mae))"
            ]
        },
        {
            "cell_type": "code",
            "execution_count": 66,
            "metadata": {},
            "outputs": [
                {
                    "name": "stdout",
                    "output_type": "stream",
                    "text": [
                        "El calculo de valores reales y predichos es de : 0.0442623628169618\n",
                        "MAPE: 3.27%\n"
                    ]
                }
            ],
            "source": [
                "maes = mean_absolute_error(y_test, y_pred)\n",
                "print(f\"El calculo de valores reales y predichos es de : {maes}\")\n",
                "por = mean_absolute_percentage_error(y_test, y_pred)\n",
                "print(f\"MAPE: {por:.2f}%\")"
            ]
        },
        {
            "cell_type": "code",
            "execution_count": 67,
            "metadata": {},
            "outputs": [],
            "source": [
                "# Convertimos las predicciones así como los valores a la escala original\n",
                "y_pred_original = np.exp(y_pred)\n",
                "y_test_original = np.exp(y_test)"
            ]
        },
        {
            "cell_type": "code",
            "execution_count": 68,
            "metadata": {},
            "outputs": [
                {
                    "name": "stdout",
                    "output_type": "stream",
                    "text": [
                        "MAE: 0.058769284507763996\n",
                        "MAPE: 4.31%\n",
                        "R^2: 0.8854546181803851\n"
                    ]
                }
            ],
            "source": [
                "# Calculamos el MAE\n",
                "mae = mean_absolute_error(y_test_original, y_pred_original)\n",
                "print(f\"MAE: {mae}\")\n",
                "\n",
                "# Calculamos el MAPE\n",
                "mape = mean_absolute_percentage_error(y_test_original, y_pred_original) * 100  # Multiplicamos por 100 para obtener el porcentaje\n",
                "print(f\"MAPE: {mape:.2f}%\")\n",
                "\n",
                "# Calculamos el R^2\n",
                "r2 = r2_score(y_test_original, y_pred_original)\n",
                "print(f\"R^2: {r2}\")"
            ]
        },
        {
            "cell_type": "markdown",
            "metadata": {},
            "source": [
                "En promedio, las predicciones del modelo tienen un error absoluto de aproximadamente 0.05877 en comparación con los valores reales.\n",
                "\n",
                "El MAPE mide la magnitud promedio de los errores absolutos entre las predicciones y los valores reales  un MAPE del 4.31% implica un error promedio realmente bajo.\n",
                "\n",
                "El coeficiente de determinación es 0.88, esto indica que aproximadamente el 88% de la variabilidad puede explicarse mediante el modelo de regresión, lo cual sugiere un buen ajuste del modelo."
            ]
        },
        {
            "cell_type": "code",
            "execution_count": 71,
            "metadata": {},
            "outputs": [
                {
                    "name": "stdout",
                    "output_type": "stream",
                    "text": [
                        "MAE: 0.03527191752304188\n",
                        "MAPE: 2.71%\n",
                        "R^2: 0.9411196616521327\n"
                    ]
                }
            ],
            "source": [
                "# Obtenemos las mismas métricas sobre el conjunto de ENTRENAMIENTO\n",
                "y_pred_train = model.predict(X_train)\n",
                "\n",
                "# Convertimos las predicciones así como los valores a la escala original\n",
                "y_train_pred_original = np.exp(y_pred_train)\n",
                "y_train_original = np.exp(y_train)\n",
                "\n",
                "# Calcular el MAE\n",
                "mae_train = mean_absolute_error(y_train_original, y_train_pred_original)\n",
                "print(f\"MAE: {mae_train}\")\n",
                "\n",
                "# Calcular el MAPE\n",
                "mape_train = mean_absolute_percentage_error(y_train_original, y_train_pred_original) * 100  # Multiplicamos por 100 para obtener el porcentaje\n",
                "print(f\"MAPE: {mape_train:.2f}%\")\n",
                "\n",
                "# Calcular el R^2\n",
                "r2_train = r2_score(y_train_original, y_train_pred_original)\n",
                "print(f\"R^2: {r2_train}\")"
            ]
        },
        {
            "cell_type": "code",
            "execution_count": 72,
            "metadata": {},
            "outputs": [
                {
                    "name": "stdout",
                    "output_type": "stream",
                    "text": [
                        "Diferencia en el MAE:0.023497366984722115\n",
                        "Diferencia en el MAPE:1.59%\n",
                        "Diferencia en el R^2:-0.05566504347174761\n"
                    ]
                }
            ],
            "source": [
                "print(f'Diferencia en el MAE:{mae-mae_train}')\n",
                "print(f'Diferencia en el MAPE:{mape-mape_train:.2f}%')\n",
                "print(f'Diferencia en el R^2:{r2-r2_train}')"
            ]
        },
        {
            "cell_type": "markdown",
            "metadata": {},
            "source": [
                "Los resultados indican que el modelo no padece de overfitting debido a una diferencia insignificante en las métricas entre los conjuntos de entrenamiento y testeo. La diferencia entre el MAPE en el conjunto de entrenamiento y de testeo es de un 1.59% lo cual no podemos considerarlo un error de generalización porcentual."
            ]
        },
        {
            "cell_type": "code",
            "execution_count": null,
            "metadata": {},
            "outputs": [
                {
                    "name": "stdout",
                    "output_type": "stream",
                    "text": [
                        "El calculo de valores reales y predichos es de : 0.0442623628169618\n",
                        "MAPE: 3.27%\n"
                    ]
                }
            ],
            "source": [
                "mae = mean_absolute_error(y_test, y_pred)\n",
                "print(f\"El calculo de valores reales y predichos es de : {mae}\")\n",
                "por = mean_absolute_percentage_error(y_test, y_pred)\n",
                "print(f\"MAPE: {por:.2f}%\")"
            ]
        }
    ],
    "metadata": {
        "kernelspec": {
            "display_name": "Python 3.8.13 64-bit ('3.8.13')",
            "language": "python",
            "name": "python3"
        },
        "language_info": {
            "codemirror_mode": {
                "name": "ipython",
                "version": 3
            },
            "file_extension": ".py",
            "mimetype": "text/x-python",
            "name": "python",
            "nbconvert_exporter": "python",
            "pygments_lexer": "ipython3",
            "version": "3.11.4"
        },
        "orig_nbformat": 4,
        "vscode": {
            "interpreter": {
                "hash": "110cc1dee26208153f2972f08a2ad52b6a56238dc66d48e87fb757ef2996db56"
            }
        }
    },
    "nbformat": 4,
    "nbformat_minor": 2
}
